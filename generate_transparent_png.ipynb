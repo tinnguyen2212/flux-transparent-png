{
  "cells": [
    {
      "cell_type": "markdown",
      "metadata": {
        "id": "view-in-github"
      },
      "source": [
        "<a href=\"https://colab.research.google.com/github/your-username/flux-transparent-png/blob/main/colab/generate_transparent_png.ipynb\" target=\"_parent\"><img src=\"https://colab.research.google.com/assets/colab-badge.svg\" alt=\"Open In Colab\"/></a>"
      ]
    },
    {
      "cell_type": "markdown",
      "metadata": {},
      "source": [
        "# Flux.1 Transparent PNG Generation\n",
        "\n",
        "This notebook allows you to generate transparent PNG images without backgrounds using a trained VAE model with Flux.1 dev."
      ]
    },
    {
      "cell_type": "markdown",
      "metadata": {},
      "source": [
        "## Setup\n",
        "\n",
        "First, let's install the required dependencies and clone the repository."
      ]
    },
    {
      "cell_type": "code",
      "execution_count": null,
      "metadata": {},
      "source": [
        "# Check if running in Google Colab\n",
        "import sys\n",
        "IN_COLAB = 'google.colab' in sys.modules\n",
        "print(f\"Running in Colab: {IN_COLAB}\")\n",
        "\n",
        "# Mount Google Drive if in Colab\n",
        "if IN_COLAB:\n",
        "    from google.colab import drive\n",
        "    drive.mount('/content/drive')\n",
        "    print(\"Google Drive mounted at /content/drive\")"
      ],
      "outputs": []
    },
    {
      "cell_type": "code",
      "execution_count": null,
      "metadata": {},
      "source": [
        "# Clone the repository\n",
        "!git clone https://github.com/your-username/flux-transparent-png.git\n",
        "%cd flux-transparent-png/python"
      ],
      "outputs": []
    },
    {
      "cell_type": "code",
      "execution_count": null,
      "metadata": {},
      "source": [
        "# Install dependencies\n",
        "!pip install torch torchvision diffusers transformers pillow numpy matplotlib tqdm"
      ],
      "outputs": []
    },
    {
      "cell_type": "markdown",
      "metadata": {},
      "source": [
        "## Configuration\n",
        "\n",
        "Set up the generation configuration parameters."
      ]
    },
    {
      "cell_type": "code",
      "execution_count": null,
      "metadata": {},
      "source": [
        "# Configuration parameters\n",
        "MODEL_PATH = \"/content/drive/MyDrive/VAE-DECODER/transparent_vae.pt\"  # Path to trained VAE model\n",
        "OUTPUT_DIR = \"/content/drive/MyDrive/VAE-DECODER/OUT\"  # Output directory for generated images\n",
        "USE_DECODER_ONLY = False  # Whether to use only the decoder for generation\n",
        "HEIGHT = 512  # Height of generated images\n",
        "WIDTH = 512  # Width of generated images\n",
        "GUIDANCE_SCALE = 3.5  # Guidance scale for generation\n",
        "NUM_INFERENCE_STEPS = 50  # Number of inference steps\n",
        "SEED = 42  # Random seed for reproducibility\n",
        "\n",
        "# Create output directory\n",
        "!mkdir -p {OUTPUT_DIR}"
      ],
      "outputs": []
    },
    {
      "cell_type": "markdown",
      "metadata": {},
      "source": [
        "## Define Prompts\n",
        "\n",
        "Define the prompts for image generation."
      ]
    },
    {
      "cell_type": "code",
      "execution_count": null,
      "metadata": {},
      "source": [
        "# Define prompts\n",
        "prompts = [\n",
        "    \"A beautiful red rose on a transparent background\",\n",
        "    \"A cute cartoon cat with big eyes on a transparent background\",\n",
        "    \"A golden trophy with a star on top on a transparent background\",\n",
        "    \"A colorful butterfly with detailed wings on a transparent background\",\n",
        "    \"A simple logo design with abstract shapes on a transparent background\"\n",
        "]\n",
        "\n",
        "# Save prompts to a file\n",
        "with open(\"prompts.txt\", \"w\") as f:\n",
        "    for prompt in prompts:\n",
        "        f.write(f\"{prompt}\\n\")"
      ],
      "outputs": []
    },
    {
      "cell_type": "markdown",
      "metadata": {},
      "source": [
        "## Generate Images\n",
        "\n",
        "Now let's generate transparent PNG images using the trained model."
      ]
    },
    {
      "cell_type": "code",
      "execution_count": null,
      "metadata": {},
      "source": [
        "# Generate images\n",
        "!python generate_transparent_png.py \\\n",
        "  --model_path=\"{MODEL_PATH}\" \\\n",
        "  --prompts_file=\"prompts.txt\" \\\n",
        "  --output_dir=\"{OUTPUT_DIR}\" \\\n",
        "  --height={HEIGHT} \\\n",
        "  --width={WIDTH} \\\n",
        "  --guidance_scale={GUIDANCE_SCALE} \\\n",
        "  --num_inference_steps={NUM_INFERENCE_STEPS} \\\n",
        "  --seed={SEED} \\\n",
        "  {'--use_decoder_only' if USE_DECODER_ONLY else ''}"
      ],
      "outputs": []
    },
    {
      "cell_type": "markdown",
      "metadata": {},
      "source": [
        "## Display Generated Images\n",
        "\n",
        "Let's display the generated transparent PNG images."
      ]
    },
    {
      "cell_type": "code",
      "execution_count": null,
      "metadata": {},
      "source": [
        "import glob\n",
        "from PIL import Image\n",
        "import matplotlib.pyplot as plt\n",
        "import numpy as np\n",
        "\n",
        "# Find generated images\n",
        "image_files = sorted(glob.glob(f\"{OUTPUT_DIR}/*.png\"))\n",
        "print(f\"Found {len(image_files)} generated images\")\n",
        "\n",
        "# Display images\n",
        "n = len(image_files)\n",
        "cols = 2\n",
        "rows = (n + cols - 1) // cols\n",
        "\n",
        "fig, axes = plt.subplots(rows, cols, figsize=(12, 6 * rows))\n",
        "if rows == 1 and cols == 1:\n",
        "    axes = np.array([axes])\n",
        "axes = axes.flatten()\n",
        "\n",
        "for i, image_file in enumerate(image_files):\n",
        "    if i < len(axes):\n",
        "        # Load image\n",
        "        img = Image.open(image_file)\n",
        "        \n",
        "        # Create checkerboard background to show transparency\n",
        "        bg_size = 10  # Size of checkerboard squares\n",
        "        bg = Image.new('RGBA', img.size, (255, 255, 255, 255))\n",
        "        for y in range(0, img.height, bg_size):\n",
        "            for x in range(0, img.width, bg_size):\n",
        "                if (x // bg_size + y // bg_size) % 2 == 0:\n",
        "                    for dy in range(bg_size):\n",
        "                        for dx in range(bg_size):\n",
        "                            if x+dx < img.width and y+dy < img.height:\n",
        "                                bg.putpixel((x+dx, y+dy), (200, 200, 200, 255))\n",
        "        \n",
        "        # Composite image over checkerboard background\n",
        "        composite = Image.alpha_composite(bg, img)\n",
        "        \n",
        "        # Display image\n",
        "        axes[i].imshow(composite)\n",
        "        axes[i].set_title(f\"Image {i+1}\")\n",
        "        axes[i].axis('off')\n",
        "\n",
        "# Hide unused axes\n",
        "for i in range(len(image_files), len(axes)):\n",
        "    axes[i].axis('off')\n",
        "\n",
        "plt.tight_layout()\n",
        "plt.show()"
      ],
      "outputs": []
    },
    {
      "cell_type": "markdown",
      "metadata": {},
      "source": [
        "## Generate Custom Image\n",
        "\n",
        "You can also generate a custom image with your own prompt."
      ]
    },
    {
      "cell_type": "code",
      "execution_count": null,
      "metadata": {},
      "source": [
        "# Custom prompt\n",
        "custom_prompt = \"A majestic eagle with spread wings on a transparent background\"  # Change this to your desired prompt\n",
        "\n",
        "# Generate custom image\n",
        "!python generate_transparent_png.py \\\n",
        "  --model_path=\"{MODEL_PATH}\" \\\n",
        "  --prompt=\"{custom_prompt}\" \\\n",
        "  --output_dir=\"{OUTPUT_DIR}/custom\" \\\n",
        "  --height={HEIGHT} \\\n",
        "  --width={WIDTH} \\\n",
        "  --guidance_scale={GUIDANCE_SCALE} \\\n",
        "  --num_inference_steps={NUM_INFERENCE_STEPS} \\\n",
        "  --seed={SEED} \\\n",
        "  {'--use_decoder_only' if USE_DECODER_ONLY else ''}\n",
        "\n",
        "# Display custom image\n",
        "custom_image_file = glob.glob(f\"{OUTPUT_DIR}/custom/*.png\")[0]\n",
        "img = Image.open(custom_image_file)\n",
        "\n",
        "# Create checkerboard background to show transparency\n",
        "bg_size = 10  # Size of checkerboard squares\n",
        "bg = Image.new('RGBA', img.size, (255, 255, 255, 255))\n",
        "for y in range(0, img.height, bg_size):\n",
        "    for x in range(0, img.width, bg_size):\n",
        "        if (x // bg_size + y // bg_size) % 2 == 0:\n",
        "            for dy in range(bg_size):\n",
        "                for dx in range(bg_size):\n",
        "                    if x+dx < img.width and y+dy < img.height:\n",
        "                        bg.putpixel((x+dx, y+dy), (200, 200, 200, 255))\n",
        "\n",
        "# Composite image over checkerboard background\n",
        "composite = Image.alpha_composite(bg, img)\n",
        "\n",
        "# Display image\n",
        "plt.figure(figsize=(10, 10))\n",
        "plt.imshow(composite)\n",
        "plt.title(f\"Custom Image: {custom_prompt}\")\n",
        "plt.axis('off')\n",
        "plt.show()"
      ],
      "outputs": []
    },
    {
      "cell_type": "markdown",
      "metadata": {},
      "source": [
        "## Experiment with Different Parameters\n",
        "\n",
        "You can experiment with different parameters to see how they affect the generated images."
      ]
    },
    {
      "cell_type": "code",
      "execution_count": null,
      "metadata": {},
      "source": [
        "# Parameters to experiment with\n",
        "experiment_prompt = \"A crystal clear water droplet on a transparent background\"\n",
        "guidance_scales = [1.0, 3.5, 7.0]\n",
        "inference_steps = [20, 50, 100]\n",
        "\n",
        "# Create experiment directory\n",
        "experiment_dir = f\"{OUTPUT_DIR}/experiment\"\n",
        "!mkdir -p {experiment_dir}\n",
        "\n",
        "# Generate images with different parameters\n",
        "results = []\n",
        "\n",
        "for gs in guidance_scales:\n",
        "    for steps in inference_steps:\n",
        "        output_path = f\"{experiment_dir}/gs_{gs}_steps_{steps}.png\"\n",
        "        \n",
        "        # Generate image\n",
        "        !python generate_transparent_png.py \\\n",
        "          --model_path=\"{MODEL_PATH}\" \\\n",
        "          --prompt=\"{experiment_prompt}\" \\\n",
        "          --output_dir=\"{experiment_dir}\" \\\n",
        "          --height={HEIGHT} \\\n",
        "          --width={WIDTH} \\\n",
        "          --guidance_scale={gs} \\\n",
        "          --num_inference_steps={steps} \\\n",
        "          --seed={SEED} \\\n",
        "          {'--use_decoder_only' if USE_DECODER_ONLY else ''}\n",
        "        \n",
        "        # Find the generated image\n",
        "        image_files = glob.glob(f\"{experiment_dir}/*.png\")\n",
        "        if image_files:\n",
        "            latest_image = max(image_files, key=os.path.getctime)\n",
        "            results.append((gs, steps, latest_image))\n",
        "\n",
        "# Display experiment results\n",
        "rows = len(guidance_scales)\n",
        "cols = len(inference_steps)\n",
        "fig, axes = plt.subplots(rows, cols, figsize=(15, 5 * rows))\n",
        "\n",
        "for i, gs in enumerate(guidance_scales):\n",
        "    for j, steps in enumerate(inference_steps):\n",
        "        # Find matching result\n",
        "        matching_results = [r for r in results if r[0] == gs and r[1] == steps]\n",
        "        if matching_results:\n",
        "            image_file = matching_results[0][2]\n",
        "            img = Image.open(image_file)\n",
        "            \n",
        "            # Create checkerboard background\n",
        "            bg_size = 10\n",
        "            bg = Image.new('RGBA', img.size, (255, 255, 255, 255))\n",
        "            for y in range(0, img.height, bg_size):\n",
        "                for x in range(0, img.width, bg_size):\n",
        "                    if (x // bg_size + y // bg_size) % 2 == 0:\n",
        "                        for dy in range(bg_size):\n",
        "                            for dx in range(bg_size):\n",
        "                                if x+dx < img.width and y+dy < img.height:\n",
        "                                    bg.putpixel((x+dx, y+dy), (200, 200, 200, 255))\n",
        "            \n",
        "            # Composite image\n",
        "            composite = Image.alpha_composite(bg, img)\n",
        "            \n",
        "            # Display image\n",
        "            axes[i, j].imshow(composite)\n",
        "            axes[i, j].set_title(f\"GS: {gs}, Steps: {steps}\")\n",
        "            axes[i, j].axis('off')\n",
        "\n",
        "plt.tight_layout()\n",
        "plt.show()"
      ],
      "outputs": []
    },
    {
      "cell_type": "markdown",
      "metadata": {},
      "source": [
        "## Conclusion\n",
        "\n",
        "You have successfully generated transparent PNG images using the trained VAE model with Flux.1 dev. You can continue to experiment with different prompts and parameters to create more images.\n",
        "\n",
        "If you want to train your own model, check out the `train_transparent_png.ipynb` notebook."
      ]
    }
  ],
  "metadata": {
    "accelerator": "GPU",
    "colab": {
      "name": "generate_transparent_png.ipynb",
      "provenance": [],
      "gpuType": "T4"
    },
    "kernelspec": {
      "display_name": "Python 3",
      "name": "python3"
    },
    "language_info": {
      "name": "python"
    }
  },
  "nbformat": 4,
  "nbformat_minor": 0
}
